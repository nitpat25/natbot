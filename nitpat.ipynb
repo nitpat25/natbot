{
 "cells": [
  {
   "cell_type": "code",
   "execution_count": 2,
   "id": "7208da1b",
   "metadata": {},
   "outputs": [
    {
     "data": {
      "text/plain": [
       "'from fastapi import FastAPI\\nfrom fastapi import Request\\nfrom fastapi.responses import JSONResponse\\nimport db_helper\\n\\napp = FastAPI()\\n\\n\\n@app.post(\"/\")\\nasync def handle_request(request: Request):\\n    # Retrieve the JSON data from the request\\n    payload = await request.json()\\n\\n    # Extract the necessary information from the payload\\n    # based on the structure of the WebhookRequest from Dialogflow\\n    intent = payload[\\'queryResult\\'][\\'intent\\'][\\'displayName\\']\\n    parameters = payload[\\'queryResult\\'][\\'parameters\\']\\n    output_contexts = payload[\\'queryResult\\'][\\'outputContexts\\']\\n\\n    if intent == \"course_id\":\\n        return college_grades(parameters)\\n\\n\\ndef college_grades(parameters: dict):\\n    course_id = int(parameters[\\'number\\'])\\n    grade = db_helper.get_grades(course_id)\\n\\n    if grade:\\n        fulfillment_text = f\"The grade for Course ID: {course_id} is {grade} \"\\n    else:\\n        fulfillment_text = f\"No grade found with Course ID: {course_id}\"\\n    return JSONResponse(content={\\n        \"fulfillmentText\": fulfillment_text\\n    })\\n'"
      ]
     },
     "execution_count": 2,
     "metadata": {},
     "output_type": "execute_result"
    }
   ],
   "source": [
    "\n",
    "'''from fastapi import FastAPI\n",
    "from fastapi import Request\n",
    "from fastapi.responses import JSONResponse\n",
    "import db_helper\n",
    "\n",
    "app = FastAPI()\n",
    "\n",
    "\n",
    "@app.post(\"/\")\n",
    "async def handle_request(request: Request):\n",
    "    # Retrieve the JSON data from the request\n",
    "    payload = await request.json()\n",
    "\n",
    "    # Extract the necessary information from the payload\n",
    "    # based on the structure of the WebhookRequest from Dialogflow\n",
    "    intent = payload['queryResult']['intent']['displayName']\n",
    "    parameters = payload['queryResult']['parameters']\n",
    "    output_contexts = payload['queryResult']['outputContexts']\n",
    "\n",
    "    if intent == \"course_id\":\n",
    "        return college_grades(parameters)\n",
    "\n",
    "\n",
    "def college_grades(parameters: dict):\n",
    "    course_id = int(parameters['number'])\n",
    "    grade = db_helper.get_grades(course_id)\n",
    "\n",
    "    if grade:\n",
    "        fulfillment_text = f\"The grade for Course ID: {course_id} is {grade} \"\n",
    "    else:\n",
    "        fulfillment_text = f\"No grade found with Course ID: {course_id}\"\n",
    "    return JSONResponse(content={\n",
    "        \"fulfillmentText\": fulfillment_text\n",
    "    })\n",
    "'''"
   ]
  },
  {
   "cell_type": "code",
   "execution_count": 3,
   "id": "7064a091",
   "metadata": {},
   "outputs": [
    {
     "data": {
      "text/plain": [
       "'\\nimport mysql.connector\\nglobal cnx\\n\\ncnx = mysql.connector.connect(\\n    host=\"localhost\",\\n    user=\"root\",\\n    password=\"TEST\",\\n    database=\"nitpat\"\\n)\\n\\n\\ndef get_grades(course_id: int):\\n    cursor = cnx.cursor()\\n\\n    # Executing the SQL query to fetch the order status\\n    query = (\"SELECT grade FROM grades WHERE course_id = %s\")\\n    cursor.execute(query, (course_id,))\\n\\n    # Fetching the result\\n    result = cursor.fetchone()\\n\\n    # Closing the cursor\\n    cursor.close()\\n\\n    # Returning the order status\\n    if result:\\n        return result[0]\\n    else:\\n        return None\\n'"
      ]
     },
     "execution_count": 3,
     "metadata": {},
     "output_type": "execute_result"
    }
   ],
   "source": [
    "# Author: Dhaval Patel. Codebasics YouTube Channel\n",
    "'''\n",
    "import mysql.connector\n",
    "global cnx\n",
    "\n",
    "cnx = mysql.connector.connect(\n",
    "    host=\"localhost\",\n",
    "    user=\"root\",\n",
    "    password=\"TEST\",\n",
    "    database=\"nitpat\"\n",
    ")\n",
    "\n",
    "\n",
    "def get_grades(course_id: int):\n",
    "    cursor = cnx.cursor()\n",
    "\n",
    "    # Executing the SQL query to fetch the order status\n",
    "    query = (\"SELECT grade FROM grades WHERE course_id = %s\")\n",
    "    cursor.execute(query, (course_id,))\n",
    "\n",
    "    # Fetching the result\n",
    "    result = cursor.fetchone()\n",
    "\n",
    "    # Closing the cursor\n",
    "    cursor.close()\n",
    "\n",
    "    # Returning the order status\n",
    "    if result:\n",
    "        return result[0]\n",
    "    else:\n",
    "        return None\n",
    "'''"
   ]
  },
  {
   "cell_type": "code",
   "execution_count": null,
   "id": "a8c5f4ff",
   "metadata": {},
   "outputs": [],
   "source": [
    "from fastapi import FastAPI\n",
    "from fastapi import Request\n",
    "from fastapi.responses import JSONResponse\n",
    "\n",
    "app = FastAPI()\n",
    "\n",
    "\n",
    "@app.post(\"/\")\n",
    "async def handle_request(request: Request):\n",
    "    # Retrieve the JSON data from the request\n",
    "    payload = await request.json()\n",
    "\n",
    "    # Extract the necessary information from the payload\n",
    "    # based on the structure of the WebhookRequest from Dialogflow\n",
    "    intent = payload['queryResult']['intent']['displayName']\n",
    "    parameters = payload['queryResult']['parameters']\n",
    "    output_contexts = payload['queryResult']['outputContexts']\n",
    "\n",
    "    if intent == \"course_id\":\n",
    "        return JSONResponse(content={\n",
    "            \"fulfillmentText\": f\"Received =={intent}== in the backend\"\n",
    "        })\n",
    "\n"
   ]
  }
 ],
 "metadata": {
  "kernelspec": {
   "display_name": "Python 3 (ipykernel)",
   "language": "python",
   "name": "python3"
  },
  "language_info": {
   "codemirror_mode": {
    "name": "ipython",
    "version": 3
   },
   "file_extension": ".py",
   "mimetype": "text/x-python",
   "name": "python",
   "nbconvert_exporter": "python",
   "pygments_lexer": "ipython3",
   "version": "3.9.13"
  }
 },
 "nbformat": 4,
 "nbformat_minor": 5
}
